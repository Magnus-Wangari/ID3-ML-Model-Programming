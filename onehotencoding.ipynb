{
  "nbformat": 4,
  "nbformat_minor": 0,
  "metadata": {
    "colab": {
      "name": "Untitled2.ipynb",
      "provenance": [],
      "authorship_tag": "ABX9TyPsBsu6Cq7VcuvZW3Dha1Ne",
      "include_colab_link": true
    },
    "kernelspec": {
      "name": "python3",
      "display_name": "Python 3"
    }
  },
  "cells": [
    {
      "cell_type": "markdown",
      "metadata": {
        "id": "view-in-github",
        "colab_type": "text"
      },
      "source": [
        "<a href=\"https://colab.research.google.com/github/Magnus-Wangari/ID3-ML-Model-Programming/blob/master/onehotencoding.ipynb\" target=\"_parent\"><img src=\"https://colab.research.google.com/assets/colab-badge.svg\" alt=\"Open In Colab\"/></a>"
      ]
    },
    {
      "cell_type": "code",
      "metadata": {
        "id": "tvqaQK5kHQgp",
        "colab_type": "code",
        "colab": {}
      },
      "source": [
        "import pandas as pd\n",
        "import matplotlib \n",
        "import matplotlib.pyplot\n",
        "from sklearn.preprocessing import LabelEncoder\n",
        "from sklearn.linear_model import LassoCV"
      ],
      "execution_count": 0,
      "outputs": []
    },
    {
      "cell_type": "code",
      "metadata": {
        "id": "L2N7OqGxPyO7",
        "colab_type": "code",
        "colab": {}
      },
      "source": [
        "from google.colab import files \n",
        "uploads = files.upload()"
      ],
      "execution_count": 0,
      "outputs": []
    },
    {
      "cell_type": "code",
      "metadata": {
        "id": "u6fCAI-gQFxX",
        "colab_type": "code",
        "colab": {}
      },
      "source": [
        "data = pd.read_csv('Nairobi Office Price Ex.csv')\n",
        "data.head()\n",
        "nominal =['LOC','FUR','WATER','HK_SER']\n",
        "ordinal = ['AMB','PROX_SCH','PROX_MALL','PROX_ROAD']\n",
        "\n",
        "for feature in ordinal:\n",
        "  value = data[feature]\n",
        "  encoder = LabelEncoder()\n",
        "  trans_f = encoder.fit_transform(value)\n",
        "  data[feature]= trans_f\n",
        "#data\n",
        "\n",
        "\n"
      ],
      "execution_count": 0,
      "outputs": []
    },
    {
      "cell_type": "code",
      "metadata": {
        "id": "8zgVGc40SsK-",
        "colab_type": "code",
        "colab": {}
      },
      "source": [
        "data = pd.concat([pd.get_dummies(data[nominal],prefix ='Estate'),data],axis=1)\n",
        "data.drop(nominal,axis=1,inplace=True)\n",
        "data"
      ],
      "execution_count": 0,
      "outputs": []
    },
    {
      "cell_type": "code",
      "metadata": {
        "id": "EW6_VWAmQYOt",
        "colab_type": "code",
        "colab": {
          "base_uri": "https://localhost:8080/",
          "height": 87
        },
        "outputId": "db98b771-be4a-4053-8304-d6e5c936678d"
      },
      "source": [
        "X=data.drop('PRICE', 1)\n",
        "y= data['PRICE']\n",
        "#print(y)\n",
        "regressor =LassoCV()\n",
        "regressor.fit(X,y)"
      ],
      "execution_count": 20,
      "outputs": [
        {
          "output_type": "execute_result",
          "data": {
            "text/plain": [
              "LassoCV(alphas=None, copy_X=True, cv=None, eps=0.001, fit_intercept=True,\n",
              "        max_iter=1000, n_alphas=100, n_jobs=None, normalize=False,\n",
              "        positive=False, precompute='auto', random_state=None,\n",
              "        selection='cyclic', tol=0.0001, verbose=False)"
            ]
          },
          "metadata": {
            "tags": []
          },
          "execution_count": 20
        }
      ]
    },
    {
      "cell_type": "code",
      "metadata": {
        "id": "vyjIQorwVM1P",
        "colab_type": "code",
        "colab": {
          "base_uri": "https://localhost:8080/",
          "height": 373
        },
        "outputId": "1aca0c78-2758-424a-f0a1-97125f32e8e3"
      },
      "source": [
        "print(regressor.coef_)\n",
        "coef_col =pd.Series(regressor.coef_,index=X.columns)\n",
        "#print(coef_col)\n",
        "sorted_coef=coef_col.sort_values()\n",
        "matplotlib.rcParams['figure.figsize'] =(10.0,5.0)\n",
        "#sorted_coef.plot()\n",
        "sorted_coef.plot(kind='barh')"
      ],
      "execution_count": 27,
      "outputs": [
        {
          "output_type": "stream",
          "text": [
            "[ 0.          0.         -4.34377698  0.         -0.         -0.\n",
            "  0.         -0.          0.          0.         -0.          2.08572213\n",
            "  0.         -3.99497824 -0.29801036  1.41027015]\n"
          ],
          "name": "stdout"
        },
        {
          "output_type": "execute_result",
          "data": {
            "text/plain": [
              "<matplotlib.axes._subplots.AxesSubplot at 0x7f64da42b358>"
            ]
          },
          "metadata": {
            "tags": []
          },
          "execution_count": 27
        },
        {
          "output_type": "display_data",
          "data": {
            "image/png": "[encoded data removed]",
            "text/plain": [
              "<Figure size 720x360 with 1 Axes>"
            ]
          },
          "metadata": {
            "tags": [],
            "needs_background": "light"
          }
        }
      ]
    }
  ]
}